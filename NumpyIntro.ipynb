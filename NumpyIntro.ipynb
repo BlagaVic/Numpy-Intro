{
 "cells": [
  {
   "cell_type": "markdown",
   "metadata": {},
   "source": [
    "## **Welcome to the McMaster Artificial Intelligence Society's beginner intro to using NumPy!**\n",
    "> #### Take a look at the code below, and make note of some of the useful features of the NumPy library. You may find it beneficial to reference this notebook in the future when quickly looking for a particular function.\n",
    "> #### Additionally, you may find these articles to be of use: <br>\n",
    "> > __[Article](http://https://hackernoon.com/introduction-to-numpy-1-an-absolute-beginners-guide-to-machine-learning-and-data-science-5d87f13f0d51)__ <br>\n",
    "> > __[Youtube Video](http://https://www.youtube.com/watch?v=8JfDAm9y_7s)__\n",
    "\n",
    "> ### Happy Coding!\n"
   ]
  },
  {
   "cell_type": "markdown",
   "metadata": {},
   "source": [
    "---\n",
    "#### Lets start by importing the numpy package as \"np\". From now on, when you use the numpy package you will refer to it as \"np\" rather than typing \"numpy\" every time. You can change \"np\" to whatever you like, but this is the standard convention. <br>\n",
    "\n"
   ]
  },
  {
   "cell_type": "code",
   "execution_count": 101,
   "metadata": {
    "collapsed": true
   },
   "outputs": [],
   "source": [
    "import numpy as np"
   ]
  },
  {
   "cell_type": "markdown",
   "metadata": {},
   "source": [
    "#### We'll use this general code to create a numpy array:\n",
    "> # np.array()\n",
    "\n",
    "#### The code below creates a standard Python array, then a numpy array."
   ]
  },
  {
   "cell_type": "code",
   "execution_count": 102,
   "metadata": {},
   "outputs": [
    {
     "name": "stdout",
     "output_type": "stream",
     "text": [
      "[1, 2, 3, 4, 5, 6, 7, 8, 9]\n",
      "[1 2 3 4 5 6 7 8 9]\n"
     ]
    }
   ],
   "source": [
    "a = [1,2,3,4,5,6,7,8,9]\n",
    "\n",
    "A = np.array([1,2,3,4,5,6,7,8,9])\n",
    "\n",
    "print(a)\n",
    "print(A)"
   ]
  },
  {
   "cell_type": "markdown",
   "metadata": {},
   "source": [
    "---\n",
    "#### The two arrays look very similar, but numpy arrays offer more efficient mathematical computation.\n",
    "#### Great! Now let's look at a neat shortcut for arrays that we want to increase by a number other than 1:\n",
    "\n",
    "> # np.arange(a, b, c)\n",
    "\n",
    "#### This creates a numpy array starting at \"a\" (inclusive), ending at \"b\" (not inclusive), with increments of the size \"c\". The code below helps illustrate this: <br>"
   ]
  },
  {
   "cell_type": "code",
   "execution_count": 103,
   "metadata": {},
   "outputs": [
    {
     "name": "stdout",
     "output_type": "stream",
     "text": [
      "[0 2 4 6 8]\n"
     ]
    }
   ],
   "source": [
    "B = np.arange(0, 10, 2)\n",
    "\n",
    "print(B)"
   ]
  },
  {
   "cell_type": "markdown",
   "metadata": {},
   "source": [
    "#### Now what about arrays with multiple dimensions? We can reshape our arrays to the desired number of dimensions. Let's reshape our first array, called \"A\", using the following general code:\n",
    "> # np.reshape(d, n)\n",
    "  \n",
    " - The first parameter, \"d\", indicates the number of rows.\n",
    " - The second parameter, \"n\", indicates the number of elements in a row.\n",
    " \n",
    "#### The following code illustrates this below: <br>"
   ]
  },
  {
   "cell_type": "code",
   "execution_count": 104,
   "metadata": {},
   "outputs": [
    {
     "name": "stdout",
     "output_type": "stream",
     "text": [
      "[[1 2 3]\n",
      " [4 5 6]\n",
      " [7 8 9]]\n"
     ]
    }
   ],
   "source": [
    "A = A.reshape(3, 3)\n",
    "print(A)"
   ]
  },
  {
   "cell_type": "markdown",
   "metadata": {},
   "source": [
    "### Cool, a 3x3 matrix! This is an example of a 2D array, but what about even more dimensions?\n",
    "#### We can add another parameter to our \"reshape\" function to introduce a third dimension. Take the following code for example: <br>"
   ]
  },
  {
   "cell_type": "code",
   "execution_count": 105,
   "metadata": {},
   "outputs": [
    {
     "name": "stdout",
     "output_type": "stream",
     "text": [
      "[[[1 2 3]\n",
      "  [4 5 6]\n",
      "  [7 8 9]]]\n"
     ]
    }
   ],
   "source": [
    "A = A.reshape(1, 3, 3)\n",
    "print(A)"
   ]
  },
  {
   "cell_type": "markdown",
   "metadata": {},
   "source": [
    "#### Take a look at these examples and try to identify the differences: <br>"
   ]
  },
  {
   "cell_type": "code",
   "execution_count": 106,
   "metadata": {},
   "outputs": [
    {
     "name": "stdout",
     "output_type": "stream",
     "text": [
      "[[[1 2 3 4 5 6 7 8 9]]]\n"
     ]
    }
   ],
   "source": [
    "#Example 1\n",
    "E1 = A.reshape(1, 1, 9)\n",
    "print(E1)"
   ]
  },
  {
   "cell_type": "code",
   "execution_count": 107,
   "metadata": {},
   "outputs": [
    {
     "name": "stdout",
     "output_type": "stream",
     "text": [
      "[[[1]\n",
      "  [2]\n",
      "  [3]\n",
      "  [4]\n",
      "  [5]\n",
      "  [6]\n",
      "  [7]\n",
      "  [8]\n",
      "  [9]]]\n"
     ]
    }
   ],
   "source": [
    "#Example 2\n",
    "E2 = A.reshape(1, 9, 1)\n",
    "print(E2)"
   ]
  },
  {
   "cell_type": "code",
   "execution_count": 108,
   "metadata": {},
   "outputs": [
    {
     "name": "stdout",
     "output_type": "stream",
     "text": [
      "[[[1]]\n",
      "\n",
      " [[2]]\n",
      "\n",
      " [[3]]\n",
      "\n",
      " [[4]]\n",
      "\n",
      " [[5]]\n",
      "\n",
      " [[6]]\n",
      "\n",
      " [[7]]\n",
      "\n",
      " [[8]]\n",
      "\n",
      " [[9]]]\n"
     ]
    }
   ],
   "source": [
    "#Example 3\n",
    "E3 = A.reshape(9, 1, 1)\n",
    "print(E3)"
   ]
  },
  {
   "cell_type": "markdown",
   "metadata": {
    "collapsed": true
   },
   "source": [
    "### These arrays can be visualized like this:\n",
    "\n",
    "![alt text](ArrayExamples.png \"Title\")\n",
    "<br>\n",
    " \n",
    " ---\n",
    "### We can determine the shape of each array using the following code:\n",
    "> # np.shape\n",
    "\n",
    "#### Let's look at our 3 examples again: <br>"
   ]
  },
  {
   "cell_type": "code",
   "execution_count": 109,
   "metadata": {},
   "outputs": [
    {
     "name": "stdout",
     "output_type": "stream",
     "text": [
      "(1, 1, 9)\n",
      "(1, 9, 1)\n",
      "(9, 1, 1)\n"
     ]
    }
   ],
   "source": [
    "print(E1.shape)\n",
    "print(E2.shape)\n",
    "print(E3.shape)"
   ]
  },
  {
   "cell_type": "markdown",
   "metadata": {},
   "source": [
    "#### All of our arrays so far have been created using our specific input. However, sometimes we may want to create a general array of a given size, without knowing the specific values of each element inside the array. We can't have elements being equal to nil, so we can initialize every to equal zero, using the following code:\n",
    "> # np.zeros((d, n))\n",
    "\n",
    "#### Like the \"reshape\" function, this will return an array with \"d\" rows and \"n\" elements in each row: <br>"
   ]
  },
  {
   "cell_type": "code",
   "execution_count": 110,
   "metadata": {},
   "outputs": [
    {
     "name": "stdout",
     "output_type": "stream",
     "text": [
      "[[0. 0. 0. 0.]\n",
      " [0. 0. 0. 0.]]\n"
     ]
    }
   ],
   "source": [
    "Z = np.zeros((2, 4))\n",
    "print(Z)"
   ]
  },
  {
   "cell_type": "markdown",
   "metadata": {},
   "source": [
    "# Great! You now have a fundamental understanding of numpy arrays and their shapes! \n",
    "---\n",
    "### In linear algebra and matrix calculations, we often have to multiply matrices. With numpy we can do it like this:\n",
    "> # np.dot(M1, M2)\n",
    "\n",
    "#### Here, M1 and M2 refer to two different matrices. Let's look at an example below: <br>\n"
   ]
  },
  {
   "cell_type": "code",
   "execution_count": 111,
   "metadata": {},
   "outputs": [
    {
     "name": "stdout",
     "output_type": "stream",
     "text": [
      "[[1 2]\n",
      " [3 4]] \n",
      "\n",
      "[[2 4]\n",
      " [6 8]] \n",
      "\n",
      "[[14 20]\n",
      " [30 44]]\n"
     ]
    }
   ],
   "source": [
    "M1 = np.arange(1, 5).reshape(2, 2)\n",
    "print(M1, \"\\n\")\n",
    "\n",
    "M2 = np.arange(2, 10, 2).reshape(2, 2)\n",
    "print(M2, \"\\n\")\n",
    "\n",
    "M_sum = np.dot(M1, M2)\n",
    "print(M_sum)"
   ]
  },
  {
   "cell_type": "markdown",
   "metadata": {},
   "source": [
    "### We can further use numpy to sum all the elements in an array:\n",
    "> # np.sum(M1)\n",
    "\n",
    "#### Let's take our M1 array as an example. If we sum the elements (1 + 2 + 3 + 4) we would expect a sum of 10. Let's see if the function we just learned will give us the same result: <br>"
   ]
  },
  {
   "cell_type": "code",
   "execution_count": 112,
   "metadata": {},
   "outputs": [
    {
     "name": "stdout",
     "output_type": "stream",
     "text": [
      "10\n"
     ]
    }
   ],
   "source": [
    "print(np.sum(M1))"
   ]
  },
  {
   "cell_type": "markdown",
   "metadata": {},
   "source": [
    "### Great! We can also add up the values in each row or column:\n",
    "> # np.sum(M1, axis=0)\n",
    " - \"axis=0\" adds the columns together\n",
    " - \"axis=1\" adds the rows together\n",
    "\n",
    "#### Let's look at some example code:"
   ]
  },
  {
   "cell_type": "code",
   "execution_count": 113,
   "metadata": {},
   "outputs": [
    {
     "name": "stdout",
     "output_type": "stream",
     "text": [
      "[4 6] \n",
      "\n",
      "[3 7]\n"
     ]
    }
   ],
   "source": [
    "print(np.sum(M1, axis=0), \"\\n\")\n",
    "print(np.sum(M1, axis=1))"
   ]
  },
  {
   "cell_type": "markdown",
   "metadata": {},
   "source": [
    "# Congratulations! You've successfully learned the basics of numpy and are one step closer to becoming proficient in AI!\n",
    "\n",
    "### Try completing the following exercises to really confirm your understanding:"
   ]
  },
  {
   "cell_type": "markdown",
   "metadata": {},
   "source": [
    "> #### 1. Create and print a 1D numpy array of the following format: [1, 3, 5, 7, 9]"
   ]
  },
  {
   "cell_type": "code",
   "execution_count": null,
   "metadata": {
    "collapsed": true
   },
   "outputs": [],
   "source": []
  },
  {
   "cell_type": "markdown",
   "metadata": {},
   "source": [
    "> #### 2. Reshape your array to the same format as \"E3\" mentioned above. Your array elements should share the same X and Y positions, but differ in the Z axis."
   ]
  },
  {
   "cell_type": "code",
   "execution_count": null,
   "metadata": {
    "collapsed": true
   },
   "outputs": [],
   "source": []
  },
  {
   "cell_type": "markdown",
   "metadata": {},
   "source": [
    "> #### 3. Obtain the sum of each row in your array, using the appropriate numpy function."
   ]
  },
  {
   "cell_type": "code",
   "execution_count": null,
   "metadata": {
    "collapsed": true
   },
   "outputs": [],
   "source": []
  }
 ],
 "metadata": {
  "kernelspec": {
   "display_name": "Python 3",
   "language": "python",
   "name": "python3"
  },
  "language_info": {
   "codemirror_mode": {
    "name": "ipython",
    "version": 3
   },
   "file_extension": ".py",
   "mimetype": "text/x-python",
   "name": "python",
   "nbconvert_exporter": "python",
   "pygments_lexer": "ipython3",
   "version": "3.6.3"
  }
 },
 "nbformat": 4,
 "nbformat_minor": 2
}
